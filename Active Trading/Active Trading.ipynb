{
 "cells": [
  {
   "cell_type": "code",
   "execution_count": null,
   "id": "a68520cb",
   "metadata": {},
   "outputs": [],
   "source": [
    "# Import packages\n",
    "import pandas as pd\n",
    "from matplotlib import pyplot as plt\n",
    "import seaborn as sns\n",
    "import numpy as np\n",
    "from datetime import datetime\n",
    "import yfinance as yf\n",
    "import random\n",
    "import xgboost as xgb\n",
    "from sklearn.model_selection import train_test_split\n",
    "\n",
    "# Import modules\n",
    "import trading_strategies"
   ]
  },
  {
   "cell_type": "markdown",
   "id": "49d1c5db",
   "metadata": {},
   "source": [
    "## Processing user input"
   ]
  },
  {
   "cell_type": "markdown",
   "id": "932f56a3",
   "metadata": {},
   "source": [
    "Here you can enter parameters of your trading intentions, namely the period you want to observe the strategies performance in, the amount you intend to trade with, and the ticker you want to trade. Warning: Your initial balance must be greater than the close price of the ticker at the start of the period you picked (no fractional trades)."
   ]
  },
  {
   "cell_type": "code",
   "execution_count": null,
   "id": "ab3b8f40",
   "metadata": {},
   "outputs": [],
   "source": [
    "# Specify the ticker:\n",
    "ticker = input(\"Enter a ticker you want to trade with: \")\n",
    "\n",
    "# Take user input for start date:\n",
    "start_date_str = input(\"Enter the start date (YYYY-MM-DD): \")\n",
    "\n",
    "# Take user input for end date:\n",
    "end_date_str = input(\"Enter the end date (YYYY-MM-DD or 'today' if you want to the most recent data): \")\n",
    "\n",
    "initial_balance = float(input(\"Enter the amount (in USD) you want to trade with: \"))\n",
    "\n",
    "# Check if the user entered 'today' for end date:\n",
    "if end_date_str.lower() == 'today':\n",
    "    end_date = datetime.today()\n",
    "else:\n",
    "    end_date = datetime.strptime(end_date_str, \"%Y-%m-%d\")\n",
    "\n",
    "# Convert user input date strings to datetime objects for start date:\n",
    "start_date = datetime.strptime(start_date_str, \"%Y-%m-%d\")\n",
    "\n",
    "# Create a close price dataframe:\n",
    "df = yf.download(ticker, start=start_date, end=end_date, interval=\"1d\")\n",
    "    \n",
    "# Check for missing values in the dataframe:\n",
    "if df.isnull().values.any():\n",
    "    print(\"Warning! Data for the requested ticker is not available for the whole period.\")\n",
    "else:\n",
    "    print(\"Data downloaded successfully.\")"
   ]
  },
  {
   "cell_type": "markdown",
   "id": "d178cf13",
   "metadata": {},
   "source": [
    "# Trading Strategies"
   ]
  },
  {
   "cell_type": "markdown",
   "id": "f4c6ec8b",
   "metadata": {},
   "source": [
    "## Baseline strategies"
   ]
  },
  {
   "cell_type": "markdown",
   "id": "b29e5f6d",
   "metadata": {},
   "source": [
    "### 1. Random Trading"
   ]
  },
  {
   "cell_type": "markdown",
   "id": "a07c1162",
   "metadata": {},
   "source": [
    "Here you can see the plot of an approximate distribution of the results of the random trading method. You can also run a single simulation below to see a sample of how such strategy makes trades. It will describe the trades it made in your specified period along with the prices at which the trades were made."
   ]
  },
  {
   "cell_type": "code",
   "execution_count": null,
   "id": "ed1e52bd",
   "metadata": {},
   "outputs": [],
   "source": [
    "trading_strategies.random_trading(data = df, initial_balance = initial_balance, description = True)"
   ]
  },
  {
   "cell_type": "code",
   "execution_count": null,
   "id": "57cc787b",
   "metadata": {},
   "outputs": [],
   "source": [
    "# Simulate trading cycles\n",
    "trade_simulations = [trading_strategies.random_trading(data = df, initial_balance = initial_balance,\n",
    "                                                       description = False) for i in range(1000)]"
   ]
  },
  {
   "cell_type": "code",
   "execution_count": null,
   "id": "c8c0c3f5",
   "metadata": {},
   "outputs": [],
   "source": [
    "# Plot the trade simulations distribution\n",
    "plt.figure(figsize=(10,4))\n",
    "sns.displot(trade_simulations)\n",
    "plt.axvline(np.mean(trade_simulations), color='b', linestyle='-')\n",
    "plt.axvline(100, color='g', linestyle='--')\n",
    "plt.title('Avg: $%s\\nSD: $%s'%(round(np.mean(trade_simulations),2), round(np.std(trade_simulations),2)), fontsize=20)"
   ]
  },
  {
   "cell_type": "markdown",
   "id": "75a30dcd",
   "metadata": {},
   "source": [
    "### 2. Buy and Hold"
   ]
  },
  {
   "cell_type": "code",
   "execution_count": null,
   "id": "6095fc9d",
   "metadata": {},
   "outputs": [],
   "source": [
    "trading_strategies.buy_and_hold(df, initial_balance)"
   ]
  },
  {
   "cell_type": "markdown",
   "id": "5be7a436",
   "metadata": {},
   "source": [
    "## Data based strategies"
   ]
  },
  {
   "cell_type": "markdown",
   "id": "d61a5cf9",
   "metadata": {},
   "source": [
    "### Moving Average "
   ]
  },
  {
   "cell_type": "code",
   "execution_count": null,
   "id": "4d41a274",
   "metadata": {},
   "outputs": [],
   "source": [
    "# create a dataframe for the Moving Average strategy\n",
    "df_ma = trading_strategies.MA_strategy(data = df, long_ma = 50, short_ma = 20)"
   ]
  },
  {
   "cell_type": "code",
   "execution_count": null,
   "id": "0c1e91c2",
   "metadata": {
    "scrolled": true
   },
   "outputs": [],
   "source": [
    "# Visualization of Buy and sell signals using Moving Average\n",
    "plt.figure(figsize = (16,8))\n",
    "plt.title(\"Moving Average trade signals\", fontsize = 18)\n",
    "plt.plot(df_ma[\"Open\"], alpha = 0.5)\n",
    "plt.plot(df_ma[\"ShortMA\"], alpha = 1)\n",
    "plt.plot(df_ma[\"LongMA\"], alpha = 0.5)\n",
    "plt.scatter(df_ma.index, df_ma[\"Buy\"], alpha = 1, label = \"Buy Signal\", marker = \"^\", color = \"green\")\n",
    "plt.scatter(df_ma.index, df_ma[\"Sell\"], alpha = 1, label = \"Sell Signal\", marker = \"v\", color = \"red\")\n",
    "plt.xlabel(\"Date\", fontsize = 18)\n",
    "plt.ylabel(\"Open price\", fontsize = 18)\n",
    "plt.show"
   ]
  },
  {
   "cell_type": "markdown",
   "id": "bc700ca3",
   "metadata": {},
   "source": [
    "### XGBoost Regression "
   ]
  },
  {
   "cell_type": "code",
   "execution_count": null,
   "id": "c1414225",
   "metadata": {},
   "outputs": [],
   "source": [
    "df_trading = trading_strategies.xgb_signals(df)"
   ]
  },
  {
   "cell_type": "code",
   "execution_count": null,
   "id": "0aa08709",
   "metadata": {},
   "outputs": [],
   "source": [
    "# Plot buy and sell signals\n",
    "buy_signals = df_trading[df_trading['Trade_Signal'] == 1]\n",
    "sell_signals = df_trading[df_trading['Trade_Signal'] == -1]\n",
    "\n",
    "# Create a wider figure\n",
    "plt.figure(figsize=(15, 8))\n",
    "\n",
    "# Scatter plots for buy and sell signals\n",
    "plt.scatter(buy_signals.index, buy_signals['Close_Price_On_Trade'], marker='^', color='g', label='Buy Signal')\n",
    "plt.scatter(sell_signals.index, sell_signals['Close_Price_On_Trade'], marker='v', color='r', label='Sell Signal')\n",
    "\n",
    "# Customize the plot\n",
    "plt.title('Buy and Sell Signals with Price Line')\n",
    "plt.xlabel('Date')\n",
    "plt.ylabel('Close Price')\n",
    "plt.legend()\n",
    "plt.show()"
   ]
  }
 ],
 "metadata": {
  "kernelspec": {
   "display_name": "Python 3 (ipykernel)",
   "language": "python",
   "name": "python3"
  },
  "language_info": {
   "codemirror_mode": {
    "name": "ipython",
    "version": 3
   },
   "file_extension": ".py",
   "mimetype": "text/x-python",
   "name": "python",
   "nbconvert_exporter": "python",
   "pygments_lexer": "ipython3",
   "version": "3.11.5"
  }
 },
 "nbformat": 4,
 "nbformat_minor": 5
}
