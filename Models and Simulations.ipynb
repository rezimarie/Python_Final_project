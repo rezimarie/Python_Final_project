{
 "cells": [
  {
   "cell_type": "code",
   "execution_count": null,
   "id": "a68520cb",
   "metadata": {},
   "outputs": [],
   "source": [
    "# Import packages\n",
    "import pandas as pd\n",
    "from matplotlib import pyplot as plt\n",
    "import seaborn as sns\n",
    "import numpy as np\n",
    "import math\n",
    "import datetime as dt\n",
    "import yfinance as yf\n",
    "import random\n",
    "import xgboost as xgb\n",
    "from sklearn.model_selection import train_test_split"
   ]
  },
  {
   "cell_type": "markdown",
   "id": "f311707b",
   "metadata": {},
   "source": [
    "# Obtaining Data"
   ]
  },
  {
   "cell_type": "code",
   "execution_count": null,
   "id": "67888169",
   "metadata": {},
   "outputs": [],
   "source": [
    "# Function to extract stock data we want\n",
    "def get_stock_data(tickers, num_days_back, info_type):\n",
    "    \"\"\"Takes in a list of stock tickers, the number of days into\n",
    "    the past we want data from and the type of price information, and \n",
    "    returns a Pandas dataframe with the stock data\"\"\"\n",
    "    \n",
    "    end_date = dt.datetime.now()\n",
    "    start_date = end_date - dt.timedelta(days = num_days_back)\n",
    "    \n",
    "    # Initialize a dataframe to store stock data\n",
    "    df = pd.DataFrame()\n",
    "    \n",
    "    # For each stock, download the desired information\n",
    "    for ticker in tickers:\n",
    "        data = yf.download(ticker, start = start_date, end = end_date)\n",
    "        df[ticker] = data[info_type]\n",
    "    \n",
    "    return df"
   ]
  },
  {
   "cell_type": "code",
   "execution_count": null,
   "id": "d344f1b3",
   "metadata": {},
   "outputs": [],
   "source": [
    "# Sustainable Stocks/Tickers we want to analyze\n",
    "stocks_sustainable = [\"AQN\", \"BEPC\", \"CEG\", \"CSIQ\", \"DQ\", \"GE\", \"IBDRY\", \"JKS\", \"NEE\", \"VWDRY\"]\n",
    "\n",
    "# Unsustainable companies tickers\n",
    "stocks_unsustainable = [\"EQNR\", \"BP\", \"0857.HK\", \"COP\", \"FP.VI\", \"SHEL\", \"CVX\", \"SR\", \"ENEL.MI\"]\n",
    "\n",
    "df_sustain = get_stock_data(tickers = stocks_sustainable, num_days_back = 1000, info_type = \"Adj Close\")\n",
    "df_unsustain = get_stock_data(tickers = stocks_unsustainable, num_days_back = 1000, info_type = \"Adj Close\")"
   ]
  },
  {
   "cell_type": "markdown",
   "id": "49d1c5db",
   "metadata": {},
   "source": [
    "## Processing user input"
   ]
  },
  {
   "cell_type": "code",
   "execution_count": null,
   "id": "44575631",
   "metadata": {},
   "outputs": [],
   "source": [
    "# input requested Ticker to be analyzed:\n",
    "ticker = input(\"Enter a ticker symbol of the asset you want to get processed: \")\n",
    "\n",
    "# Download the data on the specified asset\n",
    "df = yf.download(ticker, period = \"5y\", interval = \"1d\")"
   ]
  },
  {
   "cell_type": "markdown",
   "id": "d178cf13",
   "metadata": {},
   "source": [
    "# Trading Strategies"
   ]
  },
  {
   "cell_type": "markdown",
   "id": "f4c6ec8b",
   "metadata": {},
   "source": [
    "## Baseline strategies"
   ]
  },
  {
   "cell_type": "markdown",
   "id": "b29e5f6d",
   "metadata": {},
   "source": [
    "### 1. Random Trading"
   ]
  },
  {
   "cell_type": "code",
   "execution_count": null,
   "id": "febf29f9",
   "metadata": {},
   "outputs": [],
   "source": [
    "def simulate_trade(ticker_symbol, initial_balance, num_days, data = None, description = True) -> float:\n",
    "    \"\"\"Takes in ticker of a chosen stock, initial balance to trade with,\n",
    "    and number of days to trade for, performs the random buying and selling strategy\n",
    "    for for the most recent days possible, and returns the description of trades and final\n",
    "    account balance\"\"\"\n",
    "    \n",
    "    # Download historical stock data if not given\n",
    "    if data is None:\n",
    "        stock_data = yf.download(ticker_symbol, \n",
    "                        start=dt.datetime.now() - dt.timedelta(days=num_days),\n",
    "                        end=dt.datetime.now())\n",
    "    elif isinstance(data, pd.core.frame.DataFrame):\n",
    "        stock_data = data\n",
    "    else:\n",
    "        raise ValueError(\"Invalid type for 'data'. Expected DataFrame or None.\")\n",
    "    \n",
    "    # Initialize variables for account balance and stock quantity held\n",
    "    balance = initial_balance\n",
    "    stock_quantity = 0\n",
    "\n",
    "    # Define the trades for each day\n",
    "    for day in range(1, len(stock_data) + 1):\n",
    "        action = random.choice(['buy', 'sell'])\n",
    "\n",
    "        # Get the stock price for the current day\n",
    "        current_price = stock_data['Adj Close'][day - 1]\n",
    "\n",
    "        if action == 'buy':\n",
    "            # Randomly determine the quantity to buy\n",
    "            buy_quantity = random.randint(1, 10)\n",
    "\n",
    "            total_cost = buy_quantity * current_price\n",
    "\n",
    "            if total_cost <= balance:\n",
    "                # Perform the purchase\n",
    "                stock_quantity += buy_quantity\n",
    "                balance -= total_cost\n",
    "                \n",
    "                # Describe trade if specified\n",
    "                if description == True:\n",
    "                    print(f\"Day {day}: Bought {buy_quantity} stocks at ${current_price:.2f} each.\")\n",
    "\n",
    "        elif action == 'sell' and stock_quantity > 0:\n",
    "            # Randomly determine the quantity to sell\n",
    "            sell_quantity = random.randint(1, stock_quantity)\n",
    "\n",
    "            total_earning = sell_quantity * current_price\n",
    "\n",
    "            # Perform the sale\n",
    "            stock_quantity -= sell_quantity\n",
    "            balance += total_earning\n",
    "            \n",
    "            # Describe the trade if specified\n",
    "            if description == True:\n",
    "                print(f\"Day {day}: Sold {sell_quantity} stocks at ${current_price:.2f} each.\")\n",
    "\n",
    "    # Sell remaining stocks on the last day\n",
    "    if stock_quantity > 0:\n",
    "        total_earning = stock_quantity * current_price\n",
    "        balance += total_earning\n",
    "        \n",
    "        if description == True:\n",
    "            print(f\"Final day: Sold remaining {stock_quantity} stocks at ${current_price:.2f} each.\")\n",
    "\n",
    "    if description == True:\n",
    "        print(f\"Final balance: ${balance:.2f}\")\n",
    "    \n",
    "    else:\n",
    "        return balance"
   ]
  },
  {
   "cell_type": "code",
   "execution_count": null,
   "id": "57cc787b",
   "metadata": {},
   "outputs": [],
   "source": [
    "# Simulate trading cycles (30-days)\n",
    "trade_simulations = [simulate_trade(ticker, 100, 30, data = df, description = False) for i in range(1000)]"
   ]
  },
  {
   "cell_type": "code",
   "execution_count": null,
   "id": "c8c0c3f5",
   "metadata": {},
   "outputs": [],
   "source": [
    "# Plot the trade simulations distribution\n",
    "plt.figure(figsize=(10,4))\n",
    "sns.displot(trade_simulations)\n",
    "plt.axvline(np.mean(trade_simulations), color='b', linestyle='-')\n",
    "plt.axvline(100, color='g', linestyle='--')\n",
    "plt.title('Avg: $%s\\nSD: $%s'%(round(np.mean(trade_simulations),2), round(np.std(trade_simulations),2)), fontsize=20)"
   ]
  },
  {
   "cell_type": "markdown",
   "id": "75a30dcd",
   "metadata": {},
   "source": [
    "### 2. Buy and Hold"
   ]
  },
  {
   "cell_type": "code",
   "execution_count": null,
   "id": "f837c1bf",
   "metadata": {},
   "outputs": [],
   "source": [
    "def buy_and_hold(ticker_symbol: str, initial_balance: float, num_days: int, data = None, description = True):\n",
    "    \"\"\"Takes in the ticker symbol, the initial investment, and the\n",
    "    time window in days, intended to hold the investment, then returns\n",
    "    the final investment balance after selling the position at the end of the period\"\"\"\n",
    "    \n",
    "    # Download historical stock data if not given\n",
    "    if data is None:\n",
    "        stock_data = yf.download(ticker_symbol, \n",
    "                        start=dt.datetime.now() - dt.timedelta(days=num_days),\n",
    "                        end=dt.datetime.now())\n",
    "    elif isinstance(data, pd.core.frame.DataFrame):\n",
    "        stock_data = data\n",
    "    else:\n",
    "        raise ValueError(\"Invalid type for 'data'. Expected DataFrame or None.\")\n",
    "    \n",
    "    # Initialize variables for account balance and stock quantity held\n",
    "    stock_quantity = initial_balance / stock_data[\"Adj Close\"][0]\n",
    "    \n",
    "    # Final balance\n",
    "    final_balance = stock_quantity * stock_data[\"Adj Close\"][-1]\n",
    "    \n",
    "    if description == True:\n",
    "        print(f\"Final balance: ${final_balance:.2f}\")\n",
    "    \n",
    "    else:\n",
    "        return final_balance\n"
   ]
  },
  {
   "cell_type": "code",
   "execution_count": null,
   "id": "6095fc9d",
   "metadata": {},
   "outputs": [],
   "source": [
    "buy_and_hold(ticker, 10000, 30)"
   ]
  },
  {
   "cell_type": "markdown",
   "id": "5be7a436",
   "metadata": {},
   "source": [
    "## Data based strategies"
   ]
  },
  {
   "cell_type": "markdown",
   "id": "d61a5cf9",
   "metadata": {},
   "source": [
    "### Moving Average "
   ]
  },
  {
   "cell_type": "code",
   "execution_count": null,
   "id": "b45187e9",
   "metadata": {},
   "outputs": [],
   "source": [
    "# Simple moving average function\n",
    "def SMA(data: pd.DataFrame, price_info: str, period: int = 30):\n",
    "    \"\"\"Takes in a dataframe with historical prices of an asset,\n",
    "    type of price information used, such as Close or\n",
    "    Adjusted close, and the rolling window period, and calculates\n",
    "    the average\"\"\"\n",
    "    \n",
    "    return data[price_info].rolling(window = period).mean()"
   ]
  },
  {
   "cell_type": "code",
   "execution_count": null,
   "id": "0efe857a",
   "metadata": {},
   "outputs": [],
   "source": [
    "# Function to produce trading signals based on an MA strategy\n",
    "def MA_strategy(data: pd.DataFrame, long_ma: int, short_ma: int) -> pd.DataFrame:\n",
    "    \"\"\"Takes in a time series dataframe with the asset information,\n",
    "    produces buy and sell signals based on a crossover strategy\n",
    "    with specified period from which to calculate the \n",
    "    short term and long term moving averages.\"\"\"\n",
    "    \n",
    "    # Add the moving average columns to the dataset\n",
    "    data[\"LongMA\"] = SMA(data, \"Open\", period = long_ma)\n",
    "    data[\"ShortMA\"] = SMA(data, \"Open\", period = short_ma)\n",
    "    \n",
    "    # Define buy and sell signals\n",
    "    data[\"Signal\"] = np.where(data[\"ShortMA\"] > data[\"LongMA\"], 1, 0)\n",
    "    data[\"Position\"] = data[\"Signal\"].diff()\n",
    "    data[\"Buy\"] = np.where(data[\"Position\"] == 1, data[\"Open\"], np.NaN)\n",
    "    data[\"Sell\"] = np.where(data[\"Position\"] == -1, data[\"Open\"], np.NaN)\n",
    "    \n",
    "    return data"
   ]
  },
  {
   "cell_type": "code",
   "execution_count": null,
   "id": "4d41a274",
   "metadata": {},
   "outputs": [],
   "source": [
    "df_ma = MA_strategy(data = df, long_ma = 50, short_ma = 20)"
   ]
  },
  {
   "cell_type": "code",
   "execution_count": null,
   "id": "0c1e91c2",
   "metadata": {
    "scrolled": true
   },
   "outputs": [],
   "source": [
    "# Visualization of Buy and sell signals using Moving Average\n",
    "plt.figure(figsize = (16,8))\n",
    "plt.title(\"Moving Average trade signals\", fontsize = 18)\n",
    "plt.plot(df_ma[\"Open\"], alpha = 0.5)\n",
    "plt.plot(df_ma[\"ShortMA\"], alpha = 0.5)\n",
    "plt.plot(df_ma[\"LongMA\"], alpha = 0.5)\n",
    "plt.scatter(df_ma.index, df_ma[\"Buy\"], alpha = 1, label = \"Buy Signal\", marker = \"^\", color = \"green\")\n",
    "plt.scatter(df_ma.index, df_ma[\"Sell\"], alpha = 1, label = \"Sell Signal\", marker = \"v\", color = \"red\")\n",
    "plt.xlabel(\"Date\", fontsize = 18)\n",
    "plt.ylabel(\"Open price\", fontsize = 18)\n",
    "plt.show"
   ]
  },
  {
   "cell_type": "markdown",
   "id": "bc700ca3",
   "metadata": {},
   "source": [
    "### XGBoost Regression "
   ]
  },
  {
   "cell_type": "code",
   "execution_count": null,
   "id": "dad36b18",
   "metadata": {},
   "outputs": [],
   "source": [
    "# Trading strategy\n",
    "def xgb_signals(data: pd.DataFrame, test_size: float = 0.2) -> pd.DataFrame:\n",
    "    \"\"\"Takes in a Pandas dataframe containing information on an asset\n",
    "    from Yahoo Finance and the proportion of the dataset to be used for testing performance,\n",
    "    and returns a dataframe with buy and sell signals for a specified period\"\"\"\n",
    "    \n",
    "    # Creating a features dataset and target variable dataset\n",
    "    features = data[[\"Open\", \"Volume\"]]\n",
    "    target = data[\"Close\"]\n",
    "    \n",
    "    # Train test split\n",
    "    feature_train, feature_test, target_train, target_test = train_test_split(features, target, test_size=test_size, shuffle=False)\n",
    "      \n",
    "    # train the model\n",
    "    model = xgb.XGBRegressor()\n",
    "    model.fit(feature_train, target_train)\n",
    "               \n",
    "    # Predicted values of the model\n",
    "    predictions = model.predict(feature_test)\n",
    "               \n",
    "    # Create a dataframe with lagged version of close prices\n",
    "    lagged_actual_prices = target_test.shift(1)\n",
    "    \n",
    "    # Define signal conditions\n",
    "    conditions = [\n",
    "        predictions > lagged_actual_prices,\n",
    "        predictions < lagged_actual_prices\n",
    "    ]\n",
    "    values = [1, -1]\n",
    "    \n",
    "    # Set up the trade signals DataFrame\n",
    "    trade_signals_df = pd.DataFrame(index=lagged_actual_prices.index)\n",
    "    \n",
    "    # Include the trade signals in the dataframe\n",
    "    trade_signals_df['Trade_Signal'] = np.select(conditions, values, default=0)\n",
    "    \n",
    "    # Filter only rows where Trade signal is not neutral\n",
    "    trade_signals_df = trade_signals_df[trade_signals_df['Trade_Signal'] != 0]\n",
    "    \n",
    "    # Add the close prices for the days with trade signals\n",
    "    trade_signals_df['Close_Price_On_Trade'] = target_test.loc[trade_signals_df.index]\n",
    "    \n",
    "    return trade_signals_df"
   ]
  },
  {
   "cell_type": "code",
   "execution_count": null,
   "id": "c1414225",
   "metadata": {},
   "outputs": [],
   "source": [
    "df_trading = xgb_signals(df)\n",
    "df_trading"
   ]
  },
  {
   "cell_type": "code",
   "execution_count": null,
   "id": "0aa08709",
   "metadata": {},
   "outputs": [],
   "source": [
    " # Plot buy and sell signals\n",
    "buy_signals = df_trading[df_trading['Trade_Signal'] == 1]\n",
    "sell_signals = df_trading[df_trading['Trade_Signal'] == -1]\n",
    "    \n",
    "plt.scatter(buy_signals.index, buy_signals['Close_Price_On_Trade'], marker='^', color='g', label='Buy Signal')\n",
    "plt.scatter(sell_signals.index, sell_signals['Close_Price_On_Trade'], marker='v', color='r', label='Sell Signal')\n",
    "    \n",
    "# Customize the plot\n",
    "plt.title('Buy and Sell Signals with Price Line')\n",
    "plt.xlabel('Date')\n",
    "plt.ylabel('Close Price')\n",
    "plt.legend()\n",
    "plt.show()"
   ]
  }
 ],
 "metadata": {
  "kernelspec": {
   "display_name": "Python 3 (ipykernel)",
   "language": "python",
   "name": "python3"
  },
  "language_info": {
   "codemirror_mode": {
    "name": "ipython",
    "version": 3
   },
   "file_extension": ".py",
   "mimetype": "text/x-python",
   "name": "python",
   "nbconvert_exporter": "python",
   "pygments_lexer": "ipython3",
   "version": "3.10.9"
  }
 },
 "nbformat": 4,
 "nbformat_minor": 5
}
